{
 "cells": [
  {
   "cell_type": "code",
   "execution_count": 1,
   "metadata": {},
   "outputs": [],
   "source": [
    "import numpy as np\n",
    "#import matplotlib.pyplot as plt\n",
    "import os\n",
    "import scipy.io as sio\n",
    "import numpy as np "
   ]
  },
  {
   "cell_type": "code",
   "execution_count": 2,
   "metadata": {
    "scrolled": false
   },
   "outputs": [],
   "source": [
    "DATADIR = \"./../image_data\"\n",
    "EEG_dir = \"./../ImageNet-EEG\"\n",
    "\n",
    "CATEGORIES = [\"animal\", \"blue_sky\", \"device\",\"flying_object\", \"green_color\", \"musical_instrument\",\"plant\", \"red_color\", \"vehicle\",\"water\", ]\n",
    "subjects_EEG = [\"1\",\"2\",\"3\",\"4\",\"5\",\"6\"] \n",
    "\n",
    "training_data = []\n",
    "test_data = []\n",
    "\n",
    "\n",
    "\n",
    "for category in CATEGORIES:  # do blue_sky and green_color\n",
    "    path = os.path.join(DATADIR,category)  # create blue_sky and green_color\n",
    "    class_num = CATEGORIES.index(category)  # get the classification  (0 or a 1). 0=blue_sky 1=green_color\n",
    "    img_counter = 0\n",
    "    \n",
    "    for img in os.listdir(path):  # iterate over each image blue_sky and green_color\n",
    "        # print(img)\n",
    "        img_counter +=1\n",
    "        for subject in subjects_EEG: # do 1 ,2, 3, 4, 5, 6\n",
    "            path_EEG = os.path.join(EEG_dir,subject)\n",
    "            \n",
    "            for eeg in os.listdir(path_EEG):\n",
    "                if img == eeg.strip('.eeg.mat'):\n",
    "                    if img_counter  < (np.array(os.listdir(path)).size*80/100): # 80 % training \n",
    "                        EEGs= sio.loadmat(os.path.join(path_EEG,eeg), matlab_compatible=True)\n",
    "                        eeg_array = EEGs['x']\n",
    "                        new_array = eeg_array[319:479,:]\n",
    "                        training_data.append([new_array, class_num])  # add this to our training_date\n",
    "                        # print(\"train\"+eeg)\n",
    "                    else:\n",
    "                        EEGs= sio.loadmat(os.path.join(path_EEG,eeg), matlab_compatible=True)\n",
    "                        eeg_array = EEGs['x']\n",
    "                        new_array = eeg_array[319:479,:]\n",
    "                        test_data.append([new_array, class_num])  # add this to our training_date\n",
    "                        # print(\"test\"+eeg)\n",
    "\n",
    "                            \n",
    "                                   "
   ]
  },
  {
   "cell_type": "code",
   "execution_count": 3,
   "metadata": {},
   "outputs": [],
   "source": [
    "import random\n",
    "\n",
    "random.shuffle(training_data)\n",
    "random.shuffle(test_data)\n"
   ]
  },
  {
   "cell_type": "code",
   "execution_count": 4,
   "metadata": {},
   "outputs": [
    {
     "name": "stdout",
     "output_type": "stream",
     "text": [
      "0\n",
      "0\n",
      "5\n",
      "9\n",
      "8\n",
      "0\n",
      "5\n",
      "6\n",
      "1\n",
      "8\n"
     ]
    }
   ],
   "source": [
    "for sample in training_data[:10]:\n",
    "    print(sample[1])"
   ]
  },
  {
   "cell_type": "code",
   "execution_count": 5,
   "metadata": {},
   "outputs": [
    {
     "name": "stdout",
     "output_type": "stream",
     "text": [
      "9\n",
      "0\n",
      "1\n",
      "1\n",
      "7\n",
      "6\n",
      "6\n",
      "2\n",
      "6\n",
      "5\n"
     ]
    }
   ],
   "source": [
    "for sample in test_data[:10]:\n",
    "    print(sample[1])"
   ]
  },
  {
   "cell_type": "code",
   "execution_count": 6,
   "metadata": {},
   "outputs": [],
   "source": [
    "X_train = []\n",
    "y_train = []\n",
    "for features,label in training_data:\n",
    "    X_train.append(features)\n",
    "    y_train.append(label)\n",
    "\n",
    "X_test = []\n",
    "y_test = []\n",
    "for features,label in test_data:\n",
    "    X_test.append(features)\n",
    "    y_test.append(label)"
   ]
  },
  {
   "cell_type": "code",
   "execution_count": null,
   "metadata": {},
   "outputs": [],
   "source": []
  },
  {
   "cell_type": "code",
   "execution_count": 7,
   "metadata": {},
   "outputs": [
    {
     "data": {
      "text/plain": [
       "(1645, 160, 128)"
      ]
     },
     "execution_count": 7,
     "metadata": {},
     "output_type": "execute_result"
    }
   ],
   "source": [
    "X_train = np.array(X_train).reshape(-1, 160, 128)\n",
    "X_train.shape"
   ]
  },
  {
   "cell_type": "code",
   "execution_count": 8,
   "metadata": {},
   "outputs": [
    {
     "data": {
      "text/plain": [
       "(471, 160, 128)"
      ]
     },
     "execution_count": 8,
     "metadata": {},
     "output_type": "execute_result"
    }
   ],
   "source": [
    "X_test = np.array(X_test).reshape(-1, 160, 128)\n",
    "X_test.shape"
   ]
  },
  {
   "cell_type": "code",
   "execution_count": 9,
   "metadata": {},
   "outputs": [],
   "source": [
    "# my code starts here, Mahmoud "
   ]
  },
  {
   "cell_type": "code",
   "execution_count": 10,
   "metadata": {},
   "outputs": [
    {
     "name": "stdout",
     "output_type": "stream",
     "text": [
      "[['', '', '', 'Fp1', 'AFp1', 'AFz', 'AFp2', 'Fp2', '', '', ''], ['', 'AF7', 'AFF5h', 'AF3', 'AFF1h', '', 'AFF2h', 'AF4', 'AFF6h', 'AF8', ''], ['F9', 'F7', 'F5', 'F3', 'F1 ', 'Fz', 'F2', 'F4', 'F6', 'F8', 'F10'], ['FFT9h', 'FFT7h', 'FFC5h', 'FFC3h', 'FFC1h ', '', 'FFC2h ', 'FFC4h', 'FFC6h', 'FFT8h', 'FFT10h'], ['FT9', 'FT7', 'FC5', 'FC3', 'FC1', 'FCz', 'FC2', 'FC4', 'FC6', 'FT8', 'FT10'], ['FTT9h', 'FTT7h', 'FCC5h', 'FCC3h', 'FCC1h', '', 'FCC2h', 'FCC4h', 'FCC6h', 'FTT8h', 'FTT10h'], ['', 'T7', 'C5', 'C3', 'C1', 'Cz', 'C2', 'C4', 'C6', 'T8', ''], ['', 'TTP7h', 'CCP5h', 'CCP3h', 'CCP1h', '', 'CCP2h', 'CCP4h', 'CCP6h', 'TTP8h', ''], ['TP9', 'TP7', 'CP5', 'CP3', 'CP1', 'CPz', 'CP2', 'CP4', 'CP6', 'TP8', 'TP10'], ['TPP9h', 'TPP7h', 'CPP5h', 'CPP3h', 'CPP1h ', '', 'CPP2h ', 'CPP4h', 'CPP6h', 'TPP8h', 'TPP10h'], ['P9', 'P7', 'P5', 'P3', 'P1', 'Pz', 'P2', 'P4', 'P6', 'P8', 'P10'], ['PPO9h', 'PO7', 'PPO5h', 'PO3', 'PPO1h ', 'POz', 'PPO2h ', 'PO4', 'PPO6h', 'PO8', 'PPO10h'], ['PO9', 'POO9h', '', 'O1', 'POO1', '', 'POO2', 'O2', '', 'POO10h', 'PO10'], ['', '', '', 'O9', 'OI1h', 'Oz', 'OI2h', 'O10', '', '', '']]\n",
      "{'Fp1': (0, 3), 'AFp1': (0, 4), 'AFz': (0, 5), 'AFp2': (0, 6), 'Fp2': (0, 7), 'AF7': (1, 1), 'AFF5h': (1, 2), 'AF3': (1, 3), 'AFF1h': (1, 4), 'AFF2h': (1, 6), 'AF4': (1, 7), 'AFF6h': (1, 8), 'AF8': (1, 9), 'F9': (2, 0), 'F7': (2, 1), 'F5': (2, 2), 'F3': (2, 3), 'F1': (2, 4), 'Fz': (2, 5), 'F2': (2, 6), 'F4': (2, 7), 'F6': (2, 8), 'F8': (2, 9), 'F10': (2, 10), 'FFT9h': (3, 0), 'FFT7h': (3, 1), 'FFC5h': (3, 2), 'FFC3h': (3, 3), 'FFC1h': (3, 4), 'FFC2h': (3, 6), 'FFC4h': (3, 7), 'FFC6h': (3, 8), 'FFT8h': (3, 9), 'FFT10h': (3, 10), 'FT9': (4, 0), 'FT7': (4, 1), 'FC5': (4, 2), 'FC3': (4, 3), 'FC1': (4, 4), 'FCz': (4, 5), 'FC2': (4, 6), 'FC4': (4, 7), 'FC6': (4, 8), 'FT8': (4, 9), 'FT10': (4, 10), 'FTT9h': (5, 0), 'FTT7h': (5, 1), 'FCC5h': (5, 2), 'FCC3h': (5, 3), 'FCC1h': (5, 4), 'FCC2h': (5, 6), 'FCC4h': (5, 7), 'FCC6h': (5, 8), 'FTT8h': (5, 9), 'FTT10h': (5, 10), 'T7': (6, 1), 'C5': (6, 2), 'C3': (6, 3), 'C1': (6, 4), 'Cz': (6, 5), 'C2': (6, 6), 'C4': (6, 7), 'C6': (6, 8), 'T8': (6, 9), 'TTP7h': (7, 1), 'CCP5h': (7, 2), 'CCP3h': (7, 3), 'CCP1h': (7, 4), 'CCP2h': (7, 6), 'CCP4h': (7, 7), 'CCP6h': (7, 8), 'TTP8h': (7, 9), 'TP9': (8, 0), 'TP7': (8, 1), 'CP5': (8, 2), 'CP3': (8, 3), 'CP1': (8, 4), 'CPz': (8, 5), 'CP2': (8, 6), 'CP4': (8, 7), 'CP6': (8, 8), 'TP8': (8, 9), 'TP10': (8, 10), 'TPP9h': (9, 0), 'TPP7h': (9, 1), 'CPP5h': (9, 2), 'CPP3h': (9, 3), 'CPP1h': (9, 4), 'CPP2h': (9, 6), 'CPP4h': (9, 7), 'CPP6h': (9, 8), 'TPP8h': (9, 9), 'TPP10h': (9, 10), 'P9': (10, 0), 'P7': (10, 1), 'P5': (10, 2), 'P3': (10, 3), 'P1': (10, 4), 'Pz': (10, 5), 'P2': (10, 6), 'P4': (10, 7), 'P6': (10, 8), 'P8': (10, 9), 'P10': (10, 10), 'PPO9h': (11, 0), 'PO7': (11, 1), 'PPO5h': (11, 2), 'PO3': (11, 3), 'PPO1h': (11, 4), 'POz': (11, 5), 'PPO2h': (11, 6), 'PO4': (11, 7), 'PPO6h': (11, 8), 'PO8': (11, 9), 'PPO10h': (11, 10), 'PO9': (12, 0), 'POO9h': (12, 1), 'O1': (12, 3), 'POO1': (12, 4), 'POO2': (12, 6), 'O2': (12, 7), 'POO10h': (12, 9), 'PO10': (12, 10), 'O9': (13, 3), 'OI1h': (13, 4), 'Oz': (13, 5), 'OI2h': (13, 6), 'O10': (13, 7)}\n"
     ]
    }
   ],
   "source": [
    "from csv import reader\n",
    "map_dict = dict() # dictionary to hold the target position of a channel in the target 2d map\n",
    "# read csv file as a list of lists\n",
    "with open('map_v2.csv', 'r',encoding='utf-8') as csv_file:\n",
    "    # pass the file object to reader() to get the reader object\n",
    "    csv_reader = reader(csv_file)\n",
    "    # Pass reader object to list() to get a list of lists\n",
    "    m = list(csv_reader)\n",
    "    print(m)\n",
    "    for i,row in enumerate(m):\n",
    "        for j,c in enumerate(row):\n",
    "            # if the cell is not empty\n",
    "            if c:\n",
    "                c = c.replace(u'\\ufeff','').strip() # handle encoding issue, to be enhanced\n",
    "                assert(c not in map_dict)\n",
    "                map_dict[c] = (i,j) # to be checked as it depends on the orientation\n",
    "assert(len(map_dict)==128)\n",
    "print(map_dict)\n"
   ]
  },
  {
   "cell_type": "code",
   "execution_count": 11,
   "metadata": {},
   "outputs": [
    {
     "data": {
      "text/plain": [
       "(3, 0)"
      ]
     },
     "execution_count": 11,
     "metadata": {},
     "output_type": "execute_result"
    }
   ],
   "source": [
    "map_dict['FFT9h']"
   ]
  },
  {
   "cell_type": "code",
   "execution_count": 12,
   "metadata": {},
   "outputs": [
    {
     "name": "stdout",
     "output_type": "stream",
     "text": [
      "['Fp1', 'Fz', 'F3', 'F7', 'FT9', 'FC5', 'FC1', 'C3', 'T7', 'TP9', 'CP5', 'CP1', 'Pz', 'P3', 'P7', 'O1', 'Oz', 'O2', 'P4', 'P8', 'TP10', 'CP6', 'CP2', 'Cz', 'C4', 'T8', 'FT10', 'FC6', 'FC2', 'F4', 'F8', 'Fp2', 'AF7', 'AF3', 'AFz', 'F1', 'F5', 'FT7', 'FC3', 'C1', 'C5', 'TP7', 'CP3', 'P1', 'P5', 'PO7', 'PO3', 'POz', 'PO4', 'PO8', 'P6', 'P2', 'CPz', 'CP4', 'TP8', 'C6', 'C2', 'FC4', 'FT8', 'F6', 'AF8', 'AF4', 'F2', 'FCz', 'F9', 'AFF1h', 'FFC1h', 'FFC5h', 'FTT7h', 'FCC3h', 'CCP1h', 'CCP5h', 'TPP7h', 'P9', 'PPO9h', 'PO9', 'O9', 'OI1h', 'PPO1h', 'CPP3h', 'CPP4h', 'PPO2h', 'OI2h', 'O10', 'PO10', 'PPO10h', 'P10', 'TPP8h', 'CCP6h', 'CCP2h', 'FCC4h', 'FTT8h', 'FFC6h', 'FFC2h', 'AFF2h', 'F10', 'AFp1', 'AFF5h', 'FFT9h', 'FFT7h', 'FFC3h', 'FCC1h', 'FCC5h', 'FTT9h', 'TTP7h', 'CCP3h', 'CPP1h', 'CPP5h', 'TPP9h', 'POO9h', 'PPO5h', 'POO1', 'POO2', 'PPO6h', 'POO10h', 'TPP10h', 'CPP6h', 'CPP2h', 'CCP4h', 'TTP8h', 'FTT10h', 'FCC6h', 'FCC2h', 'FFC4h', 'FFT8h', 'FFT10h', 'AFF6h', 'AFp2']\n"
     ]
    }
   ],
   "source": [
    "# read csv file as a list of lists\n",
    "with open('key.csv', 'r',encoding='utf-8') as csv_file:\n",
    "    # pass the file object to reader() to get the reader object\n",
    "    csv_reader = reader(csv_file)\n",
    "    # Pass reader object to list() to get a list of lists\n",
    "    key = list(csv_reader)\n",
    "    key =[item for sublist in key for item in sublist] # flatten the key\n",
    "    assert(len(key)==128)\n",
    "    print(key)"
   ]
  },
  {
   "cell_type": "code",
   "execution_count": 13,
   "metadata": {},
   "outputs": [],
   "source": [
    "#check if all channels are mapped\n",
    "for k in key:\n",
    "    if k not in map_dict:\n",
    "        print(k)"
   ]
  },
  {
   "cell_type": "code",
   "execution_count": 14,
   "metadata": {},
   "outputs": [],
   "source": [
    "def vector_to_map(vector):\n",
    "    #print(vector.shape)\n",
    "    #print(vector)\n",
    "    assert(vector.shape==(128,))\n",
    "    m = np.zeros((14,11))\n",
    "    for idx, value in np.ndenumerate(vector):\n",
    "        assert(key[idx[0]] in map_dict) # np return index as tuple \n",
    "        x,y = map_dict[key[idx[0]]]\n",
    "        m[x,y] = value\n",
    "        #print(m[x,y])\n",
    "    assert(np.count_nonzero(m)==128)\n",
    "    return m"
   ]
  },
  {
   "cell_type": "code",
   "execution_count": 15,
   "metadata": {},
   "outputs": [],
   "source": [
    "X_train_encoded = np.zeros((X_train.shape[0],X_train.shape[1], 14, 11))\n",
    "X_test_encoded = np.zeros((X_test.shape[0],X_test.shape[1], 14, 11))"
   ]
  },
  {
   "cell_type": "code",
   "execution_count": 16,
   "metadata": {},
   "outputs": [
    {
     "data": {
      "text/plain": [
       "array([[ 0.00000000e+00,  0.00000000e+00,  0.00000000e+00,\n",
       "         1.10830985e-01,  2.19863560e-02, -6.17885590e-01,\n",
       "        -1.57540739e+00,  2.76462078e-01,  0.00000000e+00,\n",
       "         0.00000000e+00,  0.00000000e+00],\n",
       "       [ 0.00000000e+00,  1.08009958e+00,  2.58832335e-01,\n",
       "        -8.92534554e-02,  2.32074678e-01,  0.00000000e+00,\n",
       "         1.40283450e-01,  1.51338029e+00,  1.39023438e-01,\n",
       "         6.91904724e-01,  0.00000000e+00],\n",
       "       [ 1.48089156e-01, -9.31525677e-02, -1.27381063e+00,\n",
       "         1.04413241e-01, -5.05397141e-01,  2.81015933e-01,\n",
       "         7.04977095e-01,  2.50031739e-01,  3.24029773e-01,\n",
       "         2.31906548e-01,  2.90393442e-01],\n",
       "       [ 1.80653679e+00,  4.16779488e-01,  2.19007587e+00,\n",
       "        -7.52619728e-02,  3.08259845e+00,  0.00000000e+00,\n",
       "         7.60245740e-01,  3.88766855e-01, -2.05961112e-02,\n",
       "         6.58940449e-02,  1.39102840e+00],\n",
       "       [-5.23829758e-02, -5.58087463e-03,  2.43625566e-01,\n",
       "        -1.12319577e+00,  5.48436046e-01, -1.41247241e-02,\n",
       "         3.07575852e-01,  4.20334578e-01,  3.12837720e-01,\n",
       "         2.12011263e-01,  1.97418049e-01],\n",
       "       [ 4.34153557e-01,  6.59443215e-02,  1.85484871e-01,\n",
       "        -4.35590511e-03,  1.07250702e+00,  0.00000000e+00,\n",
       "         1.15937717e-01,  7.14740977e-02, -4.03776079e-01,\n",
       "         3.69772816e+00, -3.19415987e-01],\n",
       "       [ 0.00000000e+00, -3.83640081e-02,  2.16869965e-01,\n",
       "         2.84345858e-02,  4.02350843e-01,  1.94035769e-01,\n",
       "        -1.07083604e-01, -1.36093587e-01,  2.78461486e-01,\n",
       "         2.42407061e-02,  0.00000000e+00],\n",
       "       [ 0.00000000e+00, -1.77250400e-01,  3.90495753e+00,\n",
       "         1.66100943e+00, -3.50435190e-02,  0.00000000e+00,\n",
       "         2.36236000e+00, -4.15901959e-01,  6.31909430e-01,\n",
       "        -3.54441255e-02,  0.00000000e+00],\n",
       "       [ 7.19903782e-02,  6.67468429e-01, -1.79308668e-01,\n",
       "         2.02754211e+00,  1.84735000e-01, -2.41871342e-01,\n",
       "         2.22140521e-01, -2.30950072e-01,  2.45234013e-01,\n",
       "         4.26123142e+00,  1.62461355e-01],\n",
       "       [ 5.20060205e+00,  2.09608960e+00,  1.06220651e+00,\n",
       "         9.81641412e-02,  1.87469399e+00,  0.00000000e+00,\n",
       "        -1.39586017e-01,  5.00462353e-01,  3.16709191e-01,\n",
       "         2.32454491e+00,  1.41830218e+00],\n",
       "       [ 4.82489967e+00,  4.83117588e-02,  1.15081761e-02,\n",
       "        -2.82226987e-02,  1.88008338e-01, -1.74222276e-01,\n",
       "         6.34015262e-01, -2.69494317e-02,  4.81745541e-01,\n",
       "         3.13427225e-02,  6.63860559e-01],\n",
       "       [ 2.40610528e+00,  1.39258218e+00, -6.22927606e-01,\n",
       "         3.85066628e-01, -5.56152612e-02, -6.02495894e-02,\n",
       "         1.89099896e+00, -3.04083377e-01,  6.39929056e-01,\n",
       "        -2.60865707e-02,  9.77824815e-03],\n",
       "       [ 3.34766579e+00,  1.07996780e-02,  0.00000000e+00,\n",
       "         2.56804198e-01,  9.34222341e-03,  0.00000000e+00,\n",
       "         9.24816847e-01,  1.15281545e-01,  0.00000000e+00,\n",
       "         1.69915366e+00,  1.63566172e+00],\n",
       "       [ 0.00000000e+00,  0.00000000e+00,  0.00000000e+00,\n",
       "         6.24164343e-02,  3.77011076e-02,  2.14061961e-01,\n",
       "        -1.89851299e-02,  2.34993517e-01,  0.00000000e+00,\n",
       "         0.00000000e+00,  0.00000000e+00]])"
      ]
     },
     "execution_count": 16,
     "metadata": {},
     "output_type": "execute_result"
    }
   ],
   "source": [
    "vector_to_map(X_train[0,0])"
   ]
  },
  {
   "cell_type": "code",
   "execution_count": 17,
   "metadata": {},
   "outputs": [],
   "source": [
    "# can this code be enhanced? \n",
    "for i in range(X_train.shape[0]):\n",
    "    for j in range(X_train.shape[1]):\n",
    "        X_train_encoded[i,j] = vector_to_map(X_train[i,j])\n",
    "        \n",
    "for i in range(X_test.shape[0]):\n",
    "    for j in range(X_test.shape[1]):\n",
    "        X_test_encoded[i,j] = vector_to_map(X_test[i,j])"
   ]
  },
  {
   "cell_type": "code",
   "execution_count": 18,
   "metadata": {},
   "outputs": [
    {
     "name": "stdout",
     "output_type": "stream",
     "text": [
      "(1645, 160, 14, 11)\n",
      "(471, 160, 14, 11)\n"
     ]
    }
   ],
   "source": [
    "print( X_train_encoded.shape)\n",
    "print( X_test_encoded.shape)"
   ]
  },
  {
   "cell_type": "code",
   "execution_count": 19,
   "metadata": {},
   "outputs": [],
   "source": [
    "import pickle\n",
    "\n",
    "pickle_out = open(\"X_train_encoded_full_2D.pickle\",\"wb\")\n",
    "pickle.dump(X_train_encoded, pickle_out,  protocol=4)\n",
    "pickle_out.close()\n",
    "\n",
    "pickle_out = open(\"y_train_full.pickle\",\"wb\")\n",
    "pickle.dump(y_train, pickle_out)\n",
    "pickle_out.close()\n",
    "\n",
    "# We can always load it in to our current script, or a totally new one by doing:\n",
    "\n",
    "''' \n",
    "pickle_in = open(\"X_train.pickle\",\"rb\")\n",
    "X_train = pickle.load(pickle_in)\n",
    "\n",
    "pickle_in = open(\"y_train.pickle\",\"rb\")\n",
    "y_train = pickle.load(pickle_in)\n",
    "\n",
    "'''\n",
    "\n",
    "pickle_out = open(\"X_test_encoded_full_2D.pickle\",\"wb\")\n",
    "pickle.dump(X_test_encoded, pickle_out, protocol=4)\n",
    "pickle_out.close()\n",
    "\n",
    "pickle_out = open(\"y_test_full.pickle\",\"wb\")\n",
    "pickle.dump(y_test, pickle_out)\n",
    "pickle_out.close()"
   ]
  },
  {
   "cell_type": "code",
   "execution_count": 20,
   "metadata": {},
   "outputs": [
    {
     "data": {
      "text/plain": [
       "array([[-0.54057133,  0.        , -0.07066333, -0.05338725, -1.4753871 ,\n",
       "        -0.10223411],\n",
       "       [-0.41411111,  0.20282668,  0.0695984 ,  0.09174069, -0.04449355,\n",
       "         0.36181793],\n",
       "       [ 0.06166207,  0.        , -0.91785163, -0.10635728, -0.46212474,\n",
       "        -0.05435545],\n",
       "       [ 0.11871256, -0.12479617,  0.1672723 , -0.43977579,  0.28234372,\n",
       "        -0.53334415],\n",
       "       [-0.05139366,  0.        ,  0.03602599,  0.12663788,  0.84155399,\n",
       "        -0.05293268]])"
      ]
     },
     "execution_count": 20,
     "metadata": {},
     "output_type": "execute_result"
    }
   ],
   "source": [
    "X_train_encoded[1,1,5:10,4:10]"
   ]
  },
  {
   "cell_type": "code",
   "execution_count": null,
   "metadata": {},
   "outputs": [],
   "source": []
  },
  {
   "cell_type": "code",
   "execution_count": null,
   "metadata": {},
   "outputs": [],
   "source": []
  },
  {
   "cell_type": "code",
   "execution_count": null,
   "metadata": {},
   "outputs": [],
   "source": []
  },
  {
   "cell_type": "code",
   "execution_count": null,
   "metadata": {},
   "outputs": [],
   "source": []
  },
  {
   "cell_type": "code",
   "execution_count": null,
   "metadata": {},
   "outputs": [],
   "source": []
  },
  {
   "cell_type": "code",
   "execution_count": null,
   "metadata": {},
   "outputs": [],
   "source": []
  }
 ],
 "metadata": {
  "kernelspec": {
   "display_name": "Python 3",
   "language": "python",
   "name": "python3"
  },
  "language_info": {
   "codemirror_mode": {
    "name": "ipython",
    "version": 3
   },
   "file_extension": ".py",
   "mimetype": "text/x-python",
   "name": "python",
   "nbconvert_exporter": "python",
   "pygments_lexer": "ipython3",
   "version": "3.7.6"
  }
 },
 "nbformat": 4,
 "nbformat_minor": 4
}
